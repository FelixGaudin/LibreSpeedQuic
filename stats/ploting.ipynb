{
 "cells": [
  {
   "cell_type": "code",
   "execution_count": null,
   "metadata": {
    "execution": {
     "iopub.execute_input": "2021-11-28T17:35:32.576519Z",
     "iopub.status.busy": "2021-11-28T17:35:32.575663Z",
     "iopub.status.idle": "2021-11-28T17:35:33.213589Z",
     "shell.execute_reply": "2021-11-28T17:35:33.213826Z"
    }
   },
   "outputs": [],
   "source": [
    "import matplotlib.pyplot as plt\n",
    "import pandas as pd\n",
    "import numpy as np\n",
    "import seaborn as sns"
   ]
  },
  {
   "cell_type": "code",
   "execution_count": null,
   "metadata": {
    "execution": {
     "iopub.execute_input": "2021-11-28T17:35:33.216941Z",
     "iopub.status.busy": "2021-11-28T17:35:33.216661Z",
     "iopub.status.idle": "2021-11-28T17:35:33.227280Z",
     "shell.execute_reply": "2021-11-28T17:35:33.227042Z"
    }
   },
   "outputs": [],
   "source": [
    "df = pd.read_json('data.json')\n",
    "\n",
    "df = df.drop(\"id\", axis=1)\n",
    "\n",
    "intel_ip = ['130.104.78.15',\n",
    "            '130.104.78.16',\n",
    "            '130.104.78.17',\n",
    "            '130.104.78.18',\n",
    "            '130.104.78.19',\n",
    "            '130.104.78.20',\n",
    "            '130.104.78.21',\n",
    "            '130.104.78.22',\n",
    "            '130.104.78.23',\n",
    "            '130.104.78.24',\n",
    "            '130.104.78.25',\n",
    "            '130.104.78.26',\n",
    "            '130.104.78.27',\n",
    "            '130.104.78.28',\n",
    "            '130.104.78.29',\n",
    "            '130.104.78.30',\n",
    "            '130.104.78.31',\n",
    "            '130.104.78.32',\n",
    "            '130.104.78.33']\n",
    "\n",
    "df = df.loc[~df[\"ip\"].isin(intel_ip)]"
   ]
  },
  {
   "cell_type": "code",
   "execution_count": null,
   "metadata": {
    "execution": {
     "iopub.execute_input": "2021-11-28T17:35:33.230070Z",
     "iopub.status.busy": "2021-11-28T17:35:33.229801Z",
     "iopub.status.idle": "2021-11-28T17:35:33.251251Z",
     "shell.execute_reply": "2021-11-28T17:35:33.251466Z"
    }
   },
   "outputs": [],
   "source": [
    "df"
   ]
  },
  {
   "cell_type": "code",
   "execution_count": null,
   "metadata": {
    "execution": {
     "iopub.execute_input": "2021-11-28T17:35:33.255993Z",
     "iopub.status.busy": "2021-11-28T17:35:33.254823Z",
     "iopub.status.idle": "2021-11-28T17:35:33.466414Z",
     "shell.execute_reply": "2021-11-28T17:35:33.466669Z"
    }
   },
   "outputs": [],
   "source": [
    "plt.figure(figsize=(15, 15))\n",
    "cor = df.corr()\n",
    "cor = cor.apply(lambda x: np.abs(x))\n",
    "sns.heatmap(cor, annot=True, cmap=plt.cm.Reds)\n",
    "plt.show()\n"
   ]
  },
  {
   "cell_type": "code",
   "execution_count": null,
   "metadata": {
    "execution": {
     "iopub.execute_input": "2021-11-28T17:35:33.477113Z",
     "iopub.status.busy": "2021-11-28T17:35:33.476814Z",
     "iopub.status.idle": "2021-11-28T17:35:33.478018Z",
     "shell.execute_reply": "2021-11-28T17:35:33.478229Z"
    }
   },
   "outputs": [],
   "source": [
    "browsers = sorted(df['browser'].unique(), reverse=True)\n",
    "\n",
    "to_df = []\n",
    "\n",
    "for browser in browsers:\n",
    "    to_df.append({\n",
    "        'browser' : browser,\n",
    "        'http2 number' : len(df.loc[(df['browser'] == browser) & (df['httpversion'] == 'HTTP/2.0')]),\n",
    "        'http3 number': len(df.loc[(df['browser'] == browser) & (df['httpversion'] == 'HTTP/3')])\n",
    "    })\n",
    "\n",
    "browser_df = pd.DataFrame(to_df)"
   ]
  },
  {
   "cell_type": "code",
   "execution_count": null,
   "metadata": {
    "execution": {
     "iopub.execute_input": "2021-11-28T17:35:33.482489Z",
     "iopub.status.busy": "2021-11-28T17:35:33.482204Z",
     "iopub.status.idle": "2021-11-28T17:35:33.483843Z",
     "shell.execute_reply": "2021-11-28T17:35:33.484055Z"
    }
   },
   "outputs": [],
   "source": [
    "browser_df"
   ]
  }
 ],
 "metadata": {
  "interpreter": {
   "hash": "916dbcbb3f70747c44a77c7bcd40155683ae19c65e1c03b4aa3499c5328201f1"
  },
  "kernelspec": {
   "display_name": "Python 3.8.10 64-bit",
   "name": "python3"
  },
  "language_info": {
   "codemirror_mode": {
    "name": "ipython",
    "version": 3
   },
   "file_extension": ".py",
   "mimetype": "text/x-python",
   "name": "python",
   "nbconvert_exporter": "python",
   "pygments_lexer": "ipython3",
   "version": "3.8.10"
  }
 },
 "nbformat": 4,
 "nbformat_minor": 2
}
