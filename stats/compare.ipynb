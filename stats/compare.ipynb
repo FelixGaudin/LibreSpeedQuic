{
 "cells": [
  {
   "cell_type": "code",
   "execution_count": null,
   "metadata": {},
   "outputs": [],
   "source": [
    "import matplotlib.pyplot as plt\n",
    "import pandas as pd\n",
    "import numpy as np"
   ]
  },
  {
   "cell_type": "code",
   "execution_count": null,
   "metadata": {},
   "outputs": [],
   "source": [
    "df = pd.read_json('data.json')\n",
    "\n",
    "df = df.drop(\"id\", axis=1)\n",
    "\n",
    "intel_ip = ['130.104.78.15',\n",
    "            '130.104.78.16',\n",
    "            '130.104.78.17',\n",
    "            '130.104.78.18',\n",
    "            '130.104.78.19',\n",
    "            '130.104.78.20',\n",
    "            '130.104.78.21',\n",
    "            '130.104.78.22',\n",
    "            '130.104.78.23',\n",
    "            '130.104.78.24',\n",
    "            '130.104.78.25',\n",
    "            '130.104.78.26',\n",
    "            '130.104.78.27',\n",
    "            '130.104.78.28',\n",
    "            '130.104.78.29',\n",
    "            '130.104.78.30',\n",
    "            '130.104.78.31',\n",
    "            '130.104.78.32',\n",
    "            '130.104.78.33']\n",
    "\n",
    "df_limited = df.loc[df[\"ip\"] == \"130.104.62.244\"]\n",
    "df = df.loc[df[\"ip\"].isin(intel_ip)]\n",
    "\n",
    "df"
   ]
  },
  {
   "cell_type": "code",
   "execution_count": null,
   "metadata": {},
   "outputs": [],
   "source": [
    "http2 = df.loc[df['httpversion'] == 'HTTP/2.0']\n",
    "http2_limited = df_limited.loc[df_limited['httpversion'] == 'HTTP/2.0']\n",
    "\n",
    "http3 = df.loc[df['httpversion'] == 'HTTP/3']\n",
    "http3_limited = df_limited.loc[df_limited['httpversion'] == 'HTTP/3']"
   ]
  },
  {
   "cell_type": "code",
   "execution_count": null,
   "metadata": {},
   "outputs": [],
   "source": [
    "print(f\"#http2   -> {len(http2)}\")\n",
    "print(f\"#http2 L -> {len(http2_limited)}\")\n",
    "print(f\"#http3   -> {len(http3)}\")\n",
    "print(f\"#http3 L -> {len(http3_limited)}\")\n"
   ]
  },
  {
   "cell_type": "code",
   "execution_count": null,
   "metadata": {},
   "outputs": [],
   "source": [
    "def get_means_and_std_dev(df, type):\n",
    "    t, tn = ('ul', 'uln') if type == 'upload' else ('dl', 'dln')\n",
    "    x = sorted(df[tn].unique())\n",
    "    means = [np.mean(df.loc[df[tn] == v][t]) for v in x]\n",
    "    std_dev = [np.std(df.loc[df[tn] == v][t]) for v in x]\n",
    "    return x, means, std_dev\n",
    "\n",
    "\n",
    "def make_plot(axe, label, df, type, color, show_legend=False):\n",
    "    x, means, std_dev = get_means_and_std_dev(df, type)\n",
    "    axe.plot(x, means, label=label, color=color)\n",
    "    if show_legend:\n",
    "        axe.legend(loc=\"upper right\")\n",
    "    (_, caps, _) = axe.errorbar(x, means, yerr=std_dev,\n",
    "                                color=color, capsize=5, elinewidth=2)\n",
    "    for cap in caps:\n",
    "        cap.set_color(color)\n",
    "        cap.set_markeredgewidth(1)"
   ]
  },
  {
   "cell_type": "code",
   "execution_count": null,
   "metadata": {},
   "outputs": [],
   "source": [
    "# UPLOAD\n",
    "\n",
    "fig, axes = plt.subplots(nrows=1, ncols=2, sharex=True,\n",
    "                         sharey=True, figsize=(10, 5))\n",
    "\n",
    "make_plot(axes[0], 'HTTP/2.0', http2, 'upload', 'blue')\n",
    "make_plot(axes[0], 'HTTP/3', http3, 'upload', 'red')\n",
    "axes[0].set_title('Normal test')\n",
    "\n",
    "make_plot(axes[1], 'HTTP/2.0', http2_limited, 'upload', 'blue')\n",
    "make_plot(axes[1], 'HTTP/3', http3_limited, 'upload', 'red')\n",
    "axes[1].set_title('Limited test')\n",
    "\n",
    "plt.setp(axes, xlabel='Connection number')\n",
    "plt.setp(axes[0], ylabel='Goodput (Mbps)')\n",
    "\n",
    "plt.legend()\n",
    "plt.suptitle(\"UPLOAD\")\n"
   ]
  },
  {
   "cell_type": "code",
   "execution_count": null,
   "metadata": {},
   "outputs": [],
   "source": [
    "# UPLOAD\n",
    "\n",
    "fig, axes = plt.subplots(nrows=1, ncols=2, sharex=True,\n",
    "                         sharey=True, figsize=(10, 5))\n",
    "\n",
    "make_plot(axes[0], 'HTTP/2.0', http2, 'download', 'blue')\n",
    "make_plot(axes[0], 'HTTP/3', http3, 'download', 'red')\n",
    "axes[0].set_title('Normal test')\n",
    "\n",
    "make_plot(axes[1], 'HTTP/2.0', http2_limited, 'download', 'blue')\n",
    "make_plot(axes[1], 'HTTP/3', http3_limited, 'download', 'red')\n",
    "axes[1].set_title('Limited test')\n",
    "\n",
    "plt.setp(axes, xlabel='Connection number')\n",
    "plt.setp(axes[0], ylabel='Goodput (Mbps)')\n",
    "\n",
    "plt.legend()\n",
    "plt.suptitle(\"DOWNLOAD\")\n"
   ]
  }
 ],
 "metadata": {
  "interpreter": {
   "hash": "916dbcbb3f70747c44a77c7bcd40155683ae19c65e1c03b4aa3499c5328201f1"
  },
  "kernelspec": {
   "display_name": "Python 3.8.10 64-bit",
   "name": "python3"
  },
  "language_info": {
   "codemirror_mode": {
    "name": "ipython",
    "version": 3
   },
   "file_extension": ".py",
   "mimetype": "text/x-python",
   "name": "python",
   "nbconvert_exporter": "python",
   "pygments_lexer": "ipython3",
   "version": "3.8.10"
  },
  "orig_nbformat": 4
 },
 "nbformat": 4,
 "nbformat_minor": 2
}
