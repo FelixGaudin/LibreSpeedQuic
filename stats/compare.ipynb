{
 "cells": [
  {
   "cell_type": "code",
   "execution_count": null,
   "metadata": {},
   "outputs": [],
   "source": [
    "import matplotlib.pyplot as plt\n",
    "import pandas as pd\n",
    "import numpy as np"
   ]
  },
  {
   "cell_type": "code",
   "execution_count": null,
   "metadata": {},
   "outputs": [],
   "source": [
    "df = pd.read_json('data.json')\n",
    "\n",
    "df = df.drop(\"id\", axis=1)\n",
    "\n",
    "intel_ip = ['130.104.78.15',\n",
    "            '130.104.78.16',\n",
    "            '130.104.78.17',\n",
    "            '130.104.78.18',\n",
    "            '130.104.78.19',\n",
    "            '130.104.78.20',\n",
    "            '130.104.78.21',\n",
    "            '130.104.78.22',\n",
    "            '130.104.78.23',\n",
    "            '130.104.78.24',\n",
    "            '130.104.78.25',\n",
    "            '130.104.78.26',\n",
    "            '130.104.78.27',\n",
    "            '130.104.78.28',\n",
    "            '130.104.78.29',\n",
    "            '130.104.78.30',\n",
    "            '130.104.78.31',\n",
    "            '130.104.78.32',\n",
    "            '130.104.78.33']\n",
    "\n",
    "\n",
    "df = df.loc[df[\"ip\"].isin(intel_ip)]\n",
    "\n",
    "df"
   ]
  },
  {
   "cell_type": "code",
   "execution_count": null,
   "metadata": {},
   "outputs": [],
   "source": [
    "http2 = df.loc[df['httpversion'] == 'HTTP/2.0']\n",
    "\n",
    "http3 = df.loc[df['httpversion'] == 'HTTP/3']"
   ]
  },
  {
   "cell_type": "code",
   "execution_count": null,
   "metadata": {},
   "outputs": [],
   "source": [
    "print(f\"#http2 -> {len(http2)}\")\n",
    "print(f\"#http3 -> {len(http3)}\")"
   ]
  },
  {
   "cell_type": "code",
   "execution_count": null,
   "metadata": {},
   "outputs": [],
   "source": [
    "# UPLOAD\n",
    "\n",
    "plt.figure(figsize=(10, 10))\n",
    "\n",
    "x_2 = sorted(http2['uln'].unique())\n",
    "means_2 = [np.mean(http2.loc[http2['uln'] == x]['ul']) for x in x_2]\n",
    "std_dev_2 = [np.std(http2.loc[http2['uln'] == x]['ul']) for x in x_2]\n",
    "\n",
    "x_3 = sorted(http3['uln'].unique())\n",
    "means_3 = [np.mean(http3.loc[http3['uln'] == x]['ul']) for x in x_3]\n",
    "std_dev_3 = [np.std(http3.loc[http3['uln'] == x]['ul']) for x in x_3]\n",
    "\n",
    "plt.plot(x_2, means_2, label='HTTP/2', color='blue')\n",
    "(_, caps, _) = plt.errorbar(x_2, means_2,\n",
    "                            yerr=std_dev_2, color='blue', capsize=5, elinewidth=2)\n",
    "\n",
    "for cap in caps:\n",
    "    cap.set_color('blue')\n",
    "    cap.set_markeredgewidth(1)\n",
    "\n",
    "plt.plot(x_3, means_3, label='HTTP/3', color='red')\n",
    "(_, caps, _) = plt.errorbar(x_3, means_3,\n",
    "                            yerr=std_dev_3, color='red', capsize=5, elinewidth=2)\n",
    "\n",
    "for cap in caps:\n",
    "    cap.set_color('red')\n",
    "    cap.set_markeredgewidth(1)\n",
    "\n",
    "plt.legend()\n",
    "plt.title(\"UPLOAD\")"
   ]
  },
  {
   "cell_type": "code",
   "execution_count": null,
   "metadata": {},
   "outputs": [],
   "source": [
    "# DOWNLOAD\n",
    "\n",
    "plt.figure(figsize=(10, 10))\n",
    "\n",
    "x_2 = sorted(http2['dln'].unique())\n",
    "means_2 = [np.mean(http2.loc[http2['dln'] == x]['dl']) for x in x_2]\n",
    "std_dev_2 = [np.std(http2.loc[http2['dln'] == x]['dl']) for x in x_2]\n",
    "\n",
    "x_3 = sorted(http3['uln'].unique())\n",
    "means_3 = [np.mean(http3.loc[http3['dln'] == x]['dl']) for x in x_3]\n",
    "std_dev_3 = [np.std(http3.loc[http3['dln'] == x]['dl']) for x in x_3]\n",
    "\n",
    "plt.plot(x_2, means_2, label='HTTP/2', color='blue')\n",
    "(_, caps, _) = plt.errorbar(x_2, means_2,\n",
    "                            yerr=std_dev_2, color='blue', capsize=5, elinewidth=2)\n",
    "\n",
    "for cap in caps:\n",
    "    cap.set_color('blue')\n",
    "    cap.set_markeredgewidth(1)\n",
    "\n",
    "plt.plot(x_3, means_3, label='HTTP/3', color='red')\n",
    "(_, caps, _) = plt.errorbar(x_3, means_3,\n",
    "                            yerr=std_dev_3, color='red', capsize=5, elinewidth=2)\n",
    "\n",
    "for cap in caps:\n",
    "    cap.set_color('red')\n",
    "    cap.set_markeredgewidth(1)\n",
    "\n",
    "plt.legend()\n",
    "plt.title(\"DOWNLOAD\")"
   ]
  }
 ],
 "metadata": {
  "interpreter": {
   "hash": "916dbcbb3f70747c44a77c7bcd40155683ae19c65e1c03b4aa3499c5328201f1"
  },
  "kernelspec": {
   "display_name": "Python 3.8.10 64-bit",
   "name": "python3"
  },
  "language_info": {
   "codemirror_mode": {
    "name": "ipython",
    "version": 3
   },
   "file_extension": ".py",
   "mimetype": "text/x-python",
   "name": "python",
   "nbconvert_exporter": "python",
   "pygments_lexer": "ipython3",
   "version": "3.8.10"
  },
  "orig_nbformat": 4
 },
 "nbformat": 4,
 "nbformat_minor": 2
}
